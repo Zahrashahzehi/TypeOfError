{
 "cells": [
  {
   "cell_type": "markdown",
   "id": "7677309a",
   "metadata": {},
   "source": [
    "<p style=\"text-align:center;\"><span style=\"font-size:48px;\"><span style=\"color:crimson;\"><span style=\"font-family:cursive;\"> Types of errors in Python </span> </span>  </span></p>"
   ]
  },
  {
   "cell_type": "markdown",
   "id": "12df92d6",
   "metadata": {},
   "source": [
    "<div style=\"color:white;\n",
    "           display:fill;\n",
    "           border-radius:100px;\n",
    "           background-color:#F08080;\n",
    "           font-size:120%;\n",
    "           font-family:Verdana;\n",
    "           letter-spacing:0.5px\">\n",
    "\n",
    "<p style=\"padding: 50px;\n",
    "              color:white;\">In Python, an \"error\" typically refers to an issue or problem that arises when a program is running, and it prevents the program from executing successfully. Errors are also known as exceptions. When an error occurs in Python, it typically results in the termination of the program unless the error is caught and handled by appropriate code.✔\n",
    "\n",
    "</p>\n",
    "</div>"
   ]
  },
  {
   "cell_type": "markdown",
   "id": "62b7b799",
   "metadata": {},
   "source": [
    "<div style=\"color:black;\n",
    "           display:fill;\n",
    "           border-radius:120px;\n",
    "           background-color:powderblue;\n",
    "           font-size:100%;\n",
    "           font-family:Verdana;\n",
    "           letter-spacing:0.5px\">\n",
    "\n",
    "<p style=\"padding: 20px;\n",
    "              color:black;\">📌 There are several types of errors in Python, including:\n",
    "\n",
    "</p>\n",
    "</div>"
   ]
  },
  {
   "cell_type": "markdown",
   "id": "1721f953",
   "metadata": {},
   "source": [
    "<div style=\"color:black;\n",
    "           display:fill;\n",
    "           border-radius:120px;\n",
    "           background-color:#A52A2A;\n",
    "           font-size:100%;\n",
    "           font-family:Verdana;\n",
    "            font-size:20;\n",
    "           letter-spacing:0.5px\">\n",
    "\n",
    "<p style=\"padding: 20px;\n",
    "              color:white;\">1- Syntax Errors:\n",
    "</p>\n",
    "</div>"
   ]
  },
  {
   "cell_type": "markdown",
   "id": "58e7dfec",
   "metadata": {},
   "source": [
    "<div style=\"color:black;\n",
    "           display:fill;\n",
    "           border-radius:120px;\n",
    "           background-color:#FFE4B5;\n",
    "           font-size:100%;\n",
    "           font-family:Verdana;\n",
    "            font-size:20;\n",
    "           letter-spacing:0.5px\">\n",
    "\n",
    "<p style=\"padding: 20px;\n",
    "              color:black;\">These occur when you have a mistake in the structure of your Python code. Common examples include missing colons at the end of statements, mismatched parentheses, or misspelled keywords. These errors are detected by the Python interpreter during the parsing phase, before the program starts running.\n",
    "</p>\n",
    "</div>"
   ]
  },
  {
   "cell_type": "markdown",
   "id": "dc815253",
   "metadata": {},
   "source": [
    "<h5 style=\"color:#8B0000;position:center;\" >Example:</h5>"
   ]
  },
  {
   "cell_type": "code",
   "execution_count": 1,
   "id": "fc00c7e5",
   "metadata": {},
   "outputs": [
    {
     "ename": "SyntaxError",
     "evalue": "invalid syntax (Temp/ipykernel_7164/950389328.py, line 1)",
     "output_type": "error",
     "traceback": [
      "\u001b[1;36m  File \u001b[1;32m\"C:\\Users\\ASUS\\AppData\\Local\\Temp/ipykernel_7164/950389328.py\"\u001b[1;36m, line \u001b[1;32m1\u001b[0m\n\u001b[1;33m    if x = 5:  # SyntaxError: invalid syntax\u001b[0m\n\u001b[1;37m         ^\u001b[0m\n\u001b[1;31mSyntaxError\u001b[0m\u001b[1;31m:\u001b[0m invalid syntax\n"
     ]
    }
   ],
   "source": [
    "if x = 5:  # SyntaxError: invalid syntax\n",
    "    print(\"Hello, World!\")"
   ]
  },
  {
   "cell_type": "markdown",
   "id": "5d1b1db9",
   "metadata": {},
   "source": [
    "<div style=\"color:black;\n",
    "           display:fill;\n",
    "           border-radius:120px;\n",
    "           background-color:#A52A2A;\n",
    "           font-size:100%;\n",
    "           font-family:Verdana;\n",
    "            font-size:20;\n",
    "           letter-spacing:0.5px\">\n",
    "\n",
    "<p style=\"padding: 20px;\n",
    "              color:white;\">2- Runtime Errors:\n",
    "</p>\n",
    "</div>"
   ]
  },
  {
   "cell_type": "markdown",
   "id": "23ab1b3c",
   "metadata": {},
   "source": [
    "<div style=\"color:black;\n",
    "           display:fill;\n",
    "           border-radius:120px;\n",
    "           background-color:#FFE4B5;\n",
    "           font-size:100%;\n",
    "           font-family:Verdana;\n",
    "            font-size:20;\n",
    "           letter-spacing:0.5px\">\n",
    "\n",
    "<p style=\"padding: 20px;\n",
    "              color:black;\">Also known as exceptions, these errors occur during the execution of a program. They can happen for various reasons, such as attempting to divide by zero, trying to access a non-existent file, or referencing a variable that hasn't been defined.\n",
    "</p>\n",
    "</div>"
   ]
  },
  {
   "cell_type": "markdown",
   "id": "ad9911d9",
   "metadata": {},
   "source": [
    "<h5 style=\"color:#8B0000;position:center;\" >Example:</h5>"
   ]
  },
  {
   "cell_type": "code",
   "execution_count": 2,
   "id": "10b120cd",
   "metadata": {},
   "outputs": [
    {
     "ename": "ZeroDivisionError",
     "evalue": "division by zero",
     "output_type": "error",
     "traceback": [
      "\u001b[1;31m---------------------------------------------------------------------------\u001b[0m",
      "\u001b[1;31mZeroDivisionError\u001b[0m                         Traceback (most recent call last)",
      "\u001b[1;32m~\\AppData\\Local\\Temp/ipykernel_7164/803627510.py\u001b[0m in \u001b[0;36m<module>\u001b[1;34m\u001b[0m\n\u001b[0;32m      1\u001b[0m \u001b[0mx\u001b[0m \u001b[1;33m=\u001b[0m \u001b[1;36m0\u001b[0m\u001b[1;33m\u001b[0m\u001b[1;33m\u001b[0m\u001b[0m\n\u001b[1;32m----> 2\u001b[1;33m \u001b[0my\u001b[0m \u001b[1;33m=\u001b[0m \u001b[1;36m10\u001b[0m \u001b[1;33m/\u001b[0m \u001b[0mx\u001b[0m  \u001b[1;31m# ZeroDivisionError: division by zero\u001b[0m\u001b[1;33m\u001b[0m\u001b[1;33m\u001b[0m\u001b[0m\n\u001b[0m",
      "\u001b[1;31mZeroDivisionError\u001b[0m: division by zero"
     ]
    }
   ],
   "source": [
    "x = 0\n",
    "y = 10 / x  # ZeroDivisionError: division by zero"
   ]
  },
  {
   "cell_type": "markdown",
   "id": "3fd0e2b6",
   "metadata": {},
   "source": [
    "<div style=\"color:black;\n",
    "           display:fill;\n",
    "           border-radius:120px;\n",
    "           background-color:#A52A2A;\n",
    "           font-size:100%;\n",
    "           font-family:Verdana;\n",
    "            font-size:20;\n",
    "           letter-spacing:0.5px\">\n",
    "\n",
    "<p style=\"padding: 20px;\n",
    "              color:white;\">3- Logical Errors(Semantic):\n",
    "</p>\n",
    "</div>"
   ]
  },
  {
   "cell_type": "markdown",
   "id": "9acbb089",
   "metadata": {},
   "source": [
    "<div style=\"color:black;\n",
    "           display:fill;\n",
    "           border-radius:120px;\n",
    "           background-color:#FFE4B5;\n",
    "           font-size:100%;\n",
    "           font-family:Verdana;\n",
    "            font-size:20;\n",
    "           letter-spacing:0.5px\">\n",
    "\n",
    "<p style=\"padding: 20px;\n",
    "              color:black;\">These errors don't produce an immediate error message, but they cause the program to behave incorrectly or produce unexpected results. Logical errors can be challenging to identify because the code runs without any error messages, but it doesn't do what you intended\n",
    "\n",
    "\n",
    "    \n",
    "    \n",
    "\n",
    "</p>\n",
    "</div>"
   ]
  },
  {
   "cell_type": "markdown",
   "id": "c2b0a2a8",
   "metadata": {},
   "source": [
    "<h5 style=\"color:#8B0000;position:center;\" >Example:</h5>"
   ]
  },
  {
   "cell_type": "code",
   "execution_count": 3,
   "id": "8615cf12",
   "metadata": {},
   "outputs": [
    {
     "name": "stdout",
     "output_type": "stream",
     "text": [
      "45\n"
     ]
    }
   ],
   "source": [
    "# This code intends to calculate the sum of numbers from 1 to 10,\n",
    "# but it contains a logical error.\n",
    "total = 0\n",
    "for i in range(1, 10):\n",
    "    total += i\n",
    "print(total)  # Prints 45, but it should be 55"
   ]
  },
  {
   "cell_type": "markdown",
   "id": "a2a9d42c",
   "metadata": {},
   "source": [
    "<div style=\"color:black;\n",
    "           display:fill;\n",
    "           border-radius:120px;\n",
    "           background-color:#A52A2A;\n",
    "           font-size:100%;\n",
    "           font-family:Verdana;\n",
    "            font-size:20;\n",
    "           letter-spacing:0.5px\">\n",
    "\n",
    "<p style=\"padding: 20px;\n",
    "              color:white;\">1-1 IndentationError:\n",
    "</p>\n",
    "</div>"
   ]
  },
  {
   "cell_type": "markdown",
   "id": "46d1d02f",
   "metadata": {},
   "source": [
    "<div style=\"color:black;\n",
    "           display:fill;\n",
    "           border-radius:120px;\n",
    "           background-color:#FFE4B5;\n",
    "           font-size:100%;\n",
    "           font-family:Verdana;\n",
    "            font-size:20;\n",
    "           letter-spacing:0.5px\">\n",
    "\n",
    "<p style=\"padding: 20px;\n",
    "              color:black;\">\n",
    "In Python, an \"IndentationError\" is categorized as a syntax error. Syntax errors occur when the Python interpreter encounters code that does not conform to the language's syntax rules. Indentation errors, specifically, occur when there are issues with the indentation of code blocks. Python relies on indentation to determine the structure and nesting of code, so incorrect or inconsistent indentation can result in an \"IndentationError.\" Here are some examples:\n",
    "\n",
    "\n",
    "    \n",
    "    \n",
    "\n",
    "</p>\n",
    "</div>"
   ]
  },
  {
   "cell_type": "markdown",
   "id": "0385c59f",
   "metadata": {},
   "source": [
    "<h5 style=\"color:#8B0000;position:center;\" >Example:</h5>"
   ]
  },
  {
   "cell_type": "code",
   "execution_count": 4,
   "id": "d6c1fb24",
   "metadata": {},
   "outputs": [
    {
     "ename": "IndentationError",
     "evalue": "expected an indented block (Temp/ipykernel_7164/1891576260.py, line 3)",
     "output_type": "error",
     "traceback": [
      "\u001b[1;36m  File \u001b[1;32m\"C:\\Users\\ASUS\\AppData\\Local\\Temp/ipykernel_7164/1891576260.py\"\u001b[1;36m, line \u001b[1;32m3\u001b[0m\n\u001b[1;33m    print(\"Hello, World!\")  # IndentationError: expected an indented block\u001b[0m\n\u001b[1;37m    ^\u001b[0m\n\u001b[1;31mIndentationError\u001b[0m\u001b[1;31m:\u001b[0m expected an indented block\n"
     ]
    }
   ],
   "source": [
    "# 1-Incorrect Indentation Level:\n",
    "def my_function():\n",
    "print(\"Hello, World!\")  # IndentationError: expected an indented block\n"
   ]
  },
  {
   "cell_type": "code",
   "execution_count": 6,
   "id": "5e990530",
   "metadata": {},
   "outputs": [
    {
     "ename": "IndentationError",
     "evalue": "unindent does not match any outer indentation level (<tokenize>, line 4)",
     "output_type": "error",
     "traceback": [
      "\u001b[1;36m  File \u001b[1;32m\"<tokenize>\"\u001b[1;36m, line \u001b[1;32m4\u001b[0m\n\u001b[1;33m    print(\"This is indented incorrectly.\")  # IndentationError: unexpected indent\u001b[0m\n\u001b[1;37m    ^\u001b[0m\n\u001b[1;31mIndentationError\u001b[0m\u001b[1;31m:\u001b[0m unindent does not match any outer indentation level\n"
     ]
    }
   ],
   "source": [
    "# 2-Inconsistent Indentation:\n",
    "if True:\n",
    "    print(\"This is indented correctly.\")\n",
    "  print(\"This is indented incorrectly.\")  # IndentationError: unexpected indent\n"
   ]
  },
  {
   "cell_type": "code",
   "execution_count": 7,
   "id": "85c0c1a0",
   "metadata": {},
   "outputs": [
    {
     "ename": "IndentationError",
     "evalue": "unexpected indent (Temp/ipykernel_7164/1658859108.py, line 4)",
     "output_type": "error",
     "traceback": [
      "\u001b[1;36m  File \u001b[1;32m\"C:\\Users\\ASUS\\AppData\\Local\\Temp/ipykernel_7164/1658859108.py\"\u001b[1;36m, line \u001b[1;32m4\u001b[0m\n\u001b[1;33m    print(\"Indented with spaces\")  # IndentationError: unindent does not match any outer indentation level\u001b[0m\n\u001b[1;37m    ^\u001b[0m\n\u001b[1;31mIndentationError\u001b[0m\u001b[1;31m:\u001b[0m unexpected indent\n"
     ]
    }
   ],
   "source": [
    "# 3-Mixing Tabs and Spaces:\n",
    "def my_function():\n",
    "    print(\"Indented with tabs\")\n",
    "     print(\"Indented with spaces\")  # IndentationError: unindent does not match any outer indentation level\n"
   ]
  },
  {
   "cell_type": "markdown",
   "id": "869e1fd2",
   "metadata": {},
   "source": [
    "<div style=\"color:black;\n",
    "           display:fill;\n",
    "           border-radius:120px;\n",
    "           background-color:#A52A2A;\n",
    "           font-size:100%;\n",
    "           font-family:Verdana;\n",
    "            font-size:20;\n",
    "           letter-spacing:0.5px\">\n",
    "\n",
    "<p style=\"padding: 20px;\n",
    "              color:white;\">2-1 AssertionError:\n",
    "</p>\n",
    "</div>"
   ]
  },
  {
   "cell_type": "markdown",
   "id": "f8d15874",
   "metadata": {},
   "source": [
    "<div style=\"color:black;\n",
    "           display:fill;\n",
    "           border-radius:120px;\n",
    "           background-color:#FFE4B5;\n",
    "           font-size:100%;\n",
    "           font-family:Verdana;\n",
    "            font-size:20;\n",
    "           letter-spacing:0.5px\">\n",
    "\n",
    "<p style=\"padding: 20px;\n",
    "              color:black;\">An AssertionError in Python is categorized as a type of runtime error or exception. It occurs when an assert statement fails to evaluate to True. The purpose of the assert statement is to check whether a given condition is true and raise an AssertionError if it's false. You can think of it as a way to verify that certain conditions in your code are met during debugging and testing.\n",
    "\n",
    "\n",
    "    \n",
    "    \n",
    "\n",
    "</p>\n",
    "</div>"
   ]
  },
  {
   "cell_type": "markdown",
   "id": "4466a7ed",
   "metadata": {},
   "source": [
    "<h5 style=\"color:#8B0000;position:center;\" >Example:</h5>"
   ]
  },
  {
   "cell_type": "code",
   "execution_count": 8,
   "id": "8a48b9b6",
   "metadata": {},
   "outputs": [
    {
     "ename": "AssertionError",
     "evalue": "",
     "output_type": "error",
     "traceback": [
      "\u001b[1;31m---------------------------------------------------------------------------\u001b[0m",
      "\u001b[1;31mAssertionError\u001b[0m                            Traceback (most recent call last)",
      "\u001b[1;32m~\\AppData\\Local\\Temp/ipykernel_7164/1886270365.py\u001b[0m in \u001b[0;36m<module>\u001b[1;34m\u001b[0m\n\u001b[0;32m      1\u001b[0m \u001b[0mx\u001b[0m \u001b[1;33m=\u001b[0m \u001b[1;36m10\u001b[0m\u001b[1;33m\u001b[0m\u001b[1;33m\u001b[0m\u001b[0m\n\u001b[1;32m----> 2\u001b[1;33m \u001b[1;32massert\u001b[0m \u001b[0mx\u001b[0m \u001b[1;33m==\u001b[0m \u001b[1;36m5\u001b[0m  \u001b[1;31m# This assertion will fail, resulting in an AssertionError\u001b[0m\u001b[1;33m\u001b[0m\u001b[1;33m\u001b[0m\u001b[0m\n\u001b[0m",
      "\u001b[1;31mAssertionError\u001b[0m: "
     ]
    }
   ],
   "source": [
    "x = 10\n",
    "assert x == 5  # This assertion will fail, resulting in an AssertionError"
   ]
  },
  {
   "cell_type": "markdown",
   "id": "f785062b",
   "metadata": {},
   "source": [
    "<div style=\"color:black;\n",
    "           display:fill;\n",
    "           border-radius:120px;\n",
    "           background-color:#A52A2A;\n",
    "           font-size:100%;\n",
    "           font-family:Verdana;\n",
    "            font-size:20;\n",
    "           letter-spacing:0.5px\">\n",
    "\n",
    "<p style=\"padding: 20px;\n",
    "              color:white;\">2-2 AttributeError:\n",
    "</p>\n",
    "</div>"
   ]
  },
  {
   "cell_type": "markdown",
   "id": "b3767b8e",
   "metadata": {},
   "source": [
    "<div style=\"color:black;\n",
    "           display:fill;\n",
    "           border-radius:120px;\n",
    "           background-color:#FFE4B5;\n",
    "           font-size:100%;\n",
    "           font-family:Verdana;\n",
    "            font-size:20;\n",
    "           letter-spacing:0.5px\">\n",
    "\n",
    "<p style=\"padding: 20px;\n",
    "              color:black;\">An AttributeError in Python is categorized as a type of runtime error or exception. It occurs when you try to access an attribute or method of an object that doesn't exist or is not accessible in the given context. This error is commonly raised when working with objects and their attributes or methods\n",
    "\n",
    "    \n",
    "    \n",
    "\n",
    "</p>\n",
    "</div>"
   ]
  },
  {
   "cell_type": "markdown",
   "id": "c6c3644c",
   "metadata": {},
   "source": [
    "<h5 style=\"color:#8B0000;position:center;\" >Example:</h5>"
   ]
  },
  {
   "cell_type": "code",
   "execution_count": 9,
   "id": "8a21600d",
   "metadata": {},
   "outputs": [
    {
     "ename": "AttributeError",
     "evalue": "'MyClass' object has no attribute 'attribute_that_does_not_exist'",
     "output_type": "error",
     "traceback": [
      "\u001b[1;31m---------------------------------------------------------------------------\u001b[0m",
      "\u001b[1;31mAttributeError\u001b[0m                            Traceback (most recent call last)",
      "\u001b[1;32m~\\AppData\\Local\\Temp/ipykernel_7164/3032665395.py\u001b[0m in \u001b[0;36m<module>\u001b[1;34m\u001b[0m\n\u001b[0;32m      5\u001b[0m \u001b[1;33m\u001b[0m\u001b[0m\n\u001b[0;32m      6\u001b[0m \u001b[0mobj\u001b[0m \u001b[1;33m=\u001b[0m \u001b[0mMyClass\u001b[0m\u001b[1;33m(\u001b[0m\u001b[1;36m42\u001b[0m\u001b[1;33m)\u001b[0m\u001b[1;33m\u001b[0m\u001b[1;33m\u001b[0m\u001b[0m\n\u001b[1;32m----> 7\u001b[1;33m \u001b[0mprint\u001b[0m\u001b[1;33m(\u001b[0m\u001b[0mobj\u001b[0m\u001b[1;33m.\u001b[0m\u001b[0mattribute_that_does_not_exist\u001b[0m\u001b[1;33m)\u001b[0m  \u001b[1;31m# AttributeError: 'MyClass' object has no attribute 'attribute_that_does_not_exist'\u001b[0m\u001b[1;33m\u001b[0m\u001b[1;33m\u001b[0m\u001b[0m\n\u001b[0m",
      "\u001b[1;31mAttributeError\u001b[0m: 'MyClass' object has no attribute 'attribute_that_does_not_exist'"
     ]
    }
   ],
   "source": [
    "#1- Accessing a Non-Existent Attribute:\n",
    "class MyClass:\n",
    "    def __init__(self, value):\n",
    "        self.value = value\n",
    "\n",
    "obj = MyClass(42)\n",
    "print(obj.attribute_that_does_not_exist)  # AttributeError: 'MyClass' object has no attribute 'attribute_that_does_not_exist'\n"
   ]
  },
  {
   "cell_type": "code",
   "execution_count": 10,
   "id": "65481f20",
   "metadata": {},
   "outputs": [
    {
     "ename": "AttributeError",
     "evalue": "'list' object has no attribute 'len'",
     "output_type": "error",
     "traceback": [
      "\u001b[1;31m---------------------------------------------------------------------------\u001b[0m",
      "\u001b[1;31mAttributeError\u001b[0m                            Traceback (most recent call last)",
      "\u001b[1;32m~\\AppData\\Local\\Temp/ipykernel_7164/2003278732.py\u001b[0m in \u001b[0;36m<module>\u001b[1;34m\u001b[0m\n\u001b[0;32m      1\u001b[0m \u001b[1;31m#2-Accessing an Attribute of a Built-in Type:\u001b[0m\u001b[1;33m\u001b[0m\u001b[1;33m\u001b[0m\u001b[1;33m\u001b[0m\u001b[0m\n\u001b[0;32m      2\u001b[0m \u001b[0mmy_list\u001b[0m \u001b[1;33m=\u001b[0m \u001b[1;33m[\u001b[0m\u001b[1;36m1\u001b[0m\u001b[1;33m,\u001b[0m \u001b[1;36m2\u001b[0m\u001b[1;33m,\u001b[0m \u001b[1;36m3\u001b[0m\u001b[1;33m]\u001b[0m\u001b[1;33m\u001b[0m\u001b[1;33m\u001b[0m\u001b[0m\n\u001b[1;32m----> 3\u001b[1;33m \u001b[0mprint\u001b[0m\u001b[1;33m(\u001b[0m\u001b[0mmy_list\u001b[0m\u001b[1;33m.\u001b[0m\u001b[0mlen\u001b[0m\u001b[1;33m(\u001b[0m\u001b[1;33m)\u001b[0m\u001b[1;33m)\u001b[0m  \u001b[1;31m# AttributeError: 'list' object has no attribute 'len'\u001b[0m\u001b[1;33m\u001b[0m\u001b[1;33m\u001b[0m\u001b[0m\n\u001b[0m\u001b[0;32m      4\u001b[0m \u001b[1;31m#print(len(my_list))   # This is correct\u001b[0m\u001b[1;33m\u001b[0m\u001b[1;33m\u001b[0m\u001b[1;33m\u001b[0m\u001b[0m\n",
      "\u001b[1;31mAttributeError\u001b[0m: 'list' object has no attribute 'len'"
     ]
    }
   ],
   "source": [
    "#2-Accessing an Attribute of a Built-in Type:\n",
    "my_list = [1, 2, 3]\n",
    "print(my_list.len())  # AttributeError: 'list' object has no attribute 'len'\n",
    "#print(len(my_list))   # This is correct\n"
   ]
  },
  {
   "cell_type": "markdown",
   "id": "9335da17",
   "metadata": {},
   "source": [
    "<div style=\"color:black;\n",
    "           display:fill;\n",
    "           border-radius:120px;\n",
    "           background-color:#A52A2A;\n",
    "           font-size:100%;\n",
    "           font-family:Verdana;\n",
    "            font-size:20;\n",
    "           letter-spacing:0.5px\">\n",
    "\n",
    "<p style=\"padding: 20px;\n",
    "              color:white;\">2-3 EOFError:\n",
    "</p>\n",
    "</div>"
   ]
  },
  {
   "cell_type": "markdown",
   "id": "e16fa00d",
   "metadata": {},
   "source": [
    "<div style=\"color:black;\n",
    "           display:fill;\n",
    "           border-radius:120px;\n",
    "           background-color:#FFE4B5;\n",
    "           font-size:100%;\n",
    "           font-family:Verdana;\n",
    "            font-size:20;\n",
    "           letter-spacing:0.5px\">\n",
    "\n",
    "<p style=\"padding: 20px;\n",
    "              color:black;\">An \"EOFError\" in Python is categorized as a specific type of runtime error or exception. \"EOF\" stands for \"End of File,\" and this error occurs when an operation that expects more data to be read from a file or input stream reaches the end of the file unexpectedly. In other words, it indicates that the program attempted to read past the end of a file or input stream.\n",
    "Here's an example of an \"EOFError\" related to reading input from the standard input (keyboard):\n",
    "\n",
    "    \n",
    "    \n",
    "\n",
    "</p>\n",
    "</div>"
   ]
  },
  {
   "cell_type": "markdown",
   "id": "c1c51b96",
   "metadata": {},
   "source": [
    "<h5 style=\"color:#8B0000;position:center;\" >Example:</h5>"
   ]
  },
  {
   "cell_type": "code",
   "execution_count": 1,
   "id": "53dabfa0",
   "metadata": {},
   "outputs": [],
   "source": [
    "#try:\n",
    "    #user_input = input(\"Enter a number: \")\n",
    "    #num = int(user_input)\n",
    "    #print(\"You entered:\", num)\n",
    "#except EOFError:\n",
    "    #print(\"An EOFError occurred.\")\n",
    "#except ValueError:\n",
    "    #print(\"Invalid input. Please enter a valid number.\")\n"
   ]
  },
  {
   "cell_type": "markdown",
   "id": "e278b9af",
   "metadata": {},
   "source": [
    "<div style=\"color:black;\n",
    "           display:fill;\n",
    "           border-radius:120px;\n",
    "           background-color:#FFE4B5;\n",
    "           font-size:100%;\n",
    "           font-family:Verdana;\n",
    "            font-size:20;\n",
    "           letter-spacing:0.5px\">\n",
    "\n",
    "<p style=\"padding: 20px;\n",
    "              color:black;\">In this example, the program expects the user to enter a number, but if the user enters the end-of-file character (typically Ctrl+D on Unix-like systems or Ctrl+Z on Windows) without providing any input, it will result in an \"EOFError.\" This is because the input operation reached the end of the input stream prematurely.\n",
    "</p>\n",
    "</div>"
   ]
  },
  {
   "cell_type": "markdown",
   "id": "d5f6d26a",
   "metadata": {},
   "source": [
    "<div style=\"color:black;\n",
    "           display:fill;\n",
    "           border-radius:120px;\n",
    "           background-color:#A52A2A;\n",
    "           font-size:100%;\n",
    "           font-family:Verdana;\n",
    "            font-size:20;\n",
    "           letter-spacing:0.5px\">\n",
    "\n",
    "<p style=\"padding: 20px;\n",
    "              color:white;\">2-4 GeneratorExit:\n",
    "</p>\n",
    "</div>"
   ]
  },
  {
   "cell_type": "markdown",
   "id": "9fe700c8",
   "metadata": {},
   "source": [
    "<div style=\"color:black;\n",
    "           display:fill;\n",
    "           border-radius:120px;\n",
    "           background-color:#FFE4B5;\n",
    "           font-size:100%;\n",
    "           font-family:Verdana;\n",
    "            font-size:20;\n",
    "           letter-spacing:0.5px\">\n",
    "\n",
    "<p style=\"padding: 20px;\n",
    "              color:black;\">In Python, GeneratorExit errors are considered a subtype of exceptions, specifically a type of exception that is raised when a generator is closed prematurely using the generator.close() method. These errors fall under the category of runtime exceptions.\n",
    "Here's an example of how GeneratorExit works:\n",
    "</p>\n",
    "</div>"
   ]
  },
  {
   "cell_type": "markdown",
   "id": "af3a2482",
   "metadata": {},
   "source": [
    "<h5 style=\"color:#8B0000;position:center;\" >Example:</h5>"
   ]
  },
  {
   "cell_type": "code",
   "execution_count": 2,
   "id": "0a96a2a9",
   "metadata": {},
   "outputs": [
    {
     "name": "stdout",
     "output_type": "stream",
     "text": [
      "1\n",
      "Generator was closed prematurely.\n"
     ]
    }
   ],
   "source": [
    "def my_generator():\n",
    "    try:\n",
    "        yield 1\n",
    "        yield 2\n",
    "        yield 3\n",
    "    except GeneratorExit:\n",
    "        print(\"Generator was closed prematurely.\")\n",
    "\n",
    "gen = my_generator()\n",
    "print(next(gen))  # 1\n",
    "gen.close()       # Generator was closed prematurely.\n"
   ]
  },
  {
   "cell_type": "markdown",
   "id": "ac0ddd82",
   "metadata": {},
   "source": [
    "<div style=\"color:black;\n",
    "           display:fill;\n",
    "           border-radius:120px;\n",
    "           background-color:#A52A2A;\n",
    "           font-size:100%;\n",
    "           font-family:Verdana;\n",
    "            font-size:20;\n",
    "           letter-spacing:0.5px\">\n",
    "\n",
    "<p style=\"padding: 20px;\n",
    "              color:white;\">2-5 ImportError:\n",
    "</p>\n",
    "</div>"
   ]
  },
  {
   "cell_type": "markdown",
   "id": "2db8924c",
   "metadata": {},
   "source": [
    "<div style=\"color:black;\n",
    "           display:fill;\n",
    "           border-radius:120px;\n",
    "           background-color:#FFE4B5;\n",
    "           font-size:100%;\n",
    "           font-family:Verdana;\n",
    "            font-size:20;\n",
    "           letter-spacing:0.5px\">\n",
    "\n",
    "<p style=\"padding: 20px;\n",
    "              color:black;\">In Python, \"ImportError\" is a category of runtime errors or exceptions. It occurs when there is an issue with importing a module or accessing a name (e.g., function or variable) within a module. \"ImportError\" can manifest in various forms, depending on the specific problem\n",
    "</p>\n",
    "</div>"
   ]
  },
  {
   "cell_type": "markdown",
   "id": "d961d5d6",
   "metadata": {},
   "source": [
    "<h5 style=\"color:#8B0000;position:center;\" >Example:</h5>"
   ]
  },
  {
   "cell_type": "code",
   "execution_count": 3,
   "id": "ae57debd",
   "metadata": {},
   "outputs": [
    {
     "ename": "ModuleNotFoundError",
     "evalue": "No module named 'non_existent_module'",
     "output_type": "error",
     "traceback": [
      "\u001b[1;31m---------------------------------------------------------------------------\u001b[0m",
      "\u001b[1;31mModuleNotFoundError\u001b[0m                       Traceback (most recent call last)",
      "\u001b[1;32m~\\AppData\\Local\\Temp/ipykernel_11508/1893198112.py\u001b[0m in \u001b[0;36m<module>\u001b[1;34m\u001b[0m\n\u001b[1;32m----> 1\u001b[1;33m \u001b[1;32mimport\u001b[0m \u001b[0mnon_existent_module\u001b[0m  \u001b[1;31m# ImportError: No module named 'non_existent_module'\u001b[0m\u001b[1;33m\u001b[0m\u001b[1;33m\u001b[0m\u001b[0m\n\u001b[0m",
      "\u001b[1;31mModuleNotFoundError\u001b[0m: No module named 'non_existent_module'"
     ]
    }
   ],
   "source": [
    "import non_existent_module  # ImportError: No module named 'non_existent_module'\n"
   ]
  },
  {
   "cell_type": "markdown",
   "id": "951a80b2",
   "metadata": {},
   "source": [
    "<div style=\"color:black;\n",
    "           display:fill;\n",
    "           border-radius:120px;\n",
    "           background-color:#A52A2A;\n",
    "           font-size:100%;\n",
    "           font-family:Verdana;\n",
    "            font-size:20;\n",
    "           letter-spacing:0.5px\">\n",
    "\n",
    "<p style=\"padding: 20px;\n",
    "              color:white;\">2-6 IndexError:\n",
    "</p>\n",
    "</div>"
   ]
  },
  {
   "cell_type": "markdown",
   "id": "b86de783",
   "metadata": {},
   "source": [
    "<div style=\"color:black;\n",
    "           display:fill;\n",
    "           border-radius:120px;\n",
    "           background-color:#FFE4B5;\n",
    "           font-size:100%;\n",
    "           font-family:Verdana;\n",
    "            font-size:20;\n",
    "           letter-spacing:0.5px\">\n",
    "\n",
    "<p style=\"padding: 20px;\n",
    "              color:black;\">\n",
    "In Python, an \"IndexError\" is categorized as a runtime error or exception. It occurs when you try to access an element of a sequence (e.g., a list, tuple, or string) using an index that is out of range. This means you are attempting to access an element at an index that does not exist in the sequence. Here are some examples:\n",
    "</p>\n",
    "</div>"
   ]
  },
  {
   "cell_type": "markdown",
   "id": "81fac536",
   "metadata": {},
   "source": [
    "<h5 style=\"color:#8B0000;position:center;\" >Example:</h5>"
   ]
  },
  {
   "cell_type": "code",
   "execution_count": 4,
   "id": "15435ed9",
   "metadata": {},
   "outputs": [
    {
     "ename": "IndexError",
     "evalue": "list index out of range",
     "output_type": "error",
     "traceback": [
      "\u001b[1;31m---------------------------------------------------------------------------\u001b[0m",
      "\u001b[1;31mIndexError\u001b[0m                                Traceback (most recent call last)",
      "\u001b[1;32m~\\AppData\\Local\\Temp/ipykernel_11508/3714828945.py\u001b[0m in \u001b[0;36m<module>\u001b[1;34m\u001b[0m\n\u001b[0;32m      1\u001b[0m \u001b[1;31m# 1-List Index Out of Range:\u001b[0m\u001b[1;33m\u001b[0m\u001b[1;33m\u001b[0m\u001b[1;33m\u001b[0m\u001b[0m\n\u001b[0;32m      2\u001b[0m \u001b[0mmy_list\u001b[0m \u001b[1;33m=\u001b[0m \u001b[1;33m[\u001b[0m\u001b[1;36m1\u001b[0m\u001b[1;33m,\u001b[0m \u001b[1;36m2\u001b[0m\u001b[1;33m,\u001b[0m \u001b[1;36m3\u001b[0m\u001b[1;33m]\u001b[0m\u001b[1;33m\u001b[0m\u001b[1;33m\u001b[0m\u001b[0m\n\u001b[1;32m----> 3\u001b[1;33m \u001b[0mprint\u001b[0m\u001b[1;33m(\u001b[0m\u001b[0mmy_list\u001b[0m\u001b[1;33m[\u001b[0m\u001b[1;36m4\u001b[0m\u001b[1;33m]\u001b[0m\u001b[1;33m)\u001b[0m  \u001b[1;31m# IndexError: list index out of range\u001b[0m\u001b[1;33m\u001b[0m\u001b[1;33m\u001b[0m\u001b[0m\n\u001b[0m",
      "\u001b[1;31mIndexError\u001b[0m: list index out of range"
     ]
    }
   ],
   "source": [
    "# 1-List Index Out of Range:\n",
    "my_list = [1, 2, 3]\n",
    "print(my_list[4])  # IndexError: list index out of range\n"
   ]
  },
  {
   "cell_type": "code",
   "execution_count": 5,
   "id": "2fbf0c75",
   "metadata": {},
   "outputs": [
    {
     "ename": "IndexError",
     "evalue": "string index out of range",
     "output_type": "error",
     "traceback": [
      "\u001b[1;31m---------------------------------------------------------------------------\u001b[0m",
      "\u001b[1;31mIndexError\u001b[0m                                Traceback (most recent call last)",
      "\u001b[1;32m~\\AppData\\Local\\Temp/ipykernel_11508/2791665713.py\u001b[0m in \u001b[0;36m<module>\u001b[1;34m\u001b[0m\n\u001b[0;32m      1\u001b[0m \u001b[1;31m# 2-Negative Index Error:\u001b[0m\u001b[1;33m\u001b[0m\u001b[1;33m\u001b[0m\u001b[1;33m\u001b[0m\u001b[0m\n\u001b[0;32m      2\u001b[0m \u001b[0mmy_string\u001b[0m \u001b[1;33m=\u001b[0m \u001b[1;34m\"Hello, World!\"\u001b[0m\u001b[1;33m\u001b[0m\u001b[1;33m\u001b[0m\u001b[0m\n\u001b[1;32m----> 3\u001b[1;33m \u001b[0mprint\u001b[0m\u001b[1;33m(\u001b[0m\u001b[0mmy_string\u001b[0m\u001b[1;33m[\u001b[0m\u001b[1;33m-\u001b[0m\u001b[1;36m15\u001b[0m\u001b[1;33m]\u001b[0m\u001b[1;33m)\u001b[0m  \u001b[1;31m# IndexError: string index out of range\u001b[0m\u001b[1;33m\u001b[0m\u001b[1;33m\u001b[0m\u001b[0m\n\u001b[0m",
      "\u001b[1;31mIndexError\u001b[0m: string index out of range"
     ]
    }
   ],
   "source": [
    "# 2-Negative Index Error:\n",
    "my_string = \"Hello, World!\"\n",
    "print(my_string[-15])  # IndexError: string index out of range\n"
   ]
  },
  {
   "cell_type": "code",
   "execution_count": 6,
   "id": "190e7dd8",
   "metadata": {},
   "outputs": [
    {
     "ename": "IndexError",
     "evalue": "list index out of range",
     "output_type": "error",
     "traceback": [
      "\u001b[1;31m---------------------------------------------------------------------------\u001b[0m",
      "\u001b[1;31mIndexError\u001b[0m                                Traceback (most recent call last)",
      "\u001b[1;32m~\\AppData\\Local\\Temp/ipykernel_11508/1621205333.py\u001b[0m in \u001b[0;36m<module>\u001b[1;34m\u001b[0m\n\u001b[0;32m      1\u001b[0m \u001b[1;31m# 3-Empty Sequence Error:\u001b[0m\u001b[1;33m\u001b[0m\u001b[1;33m\u001b[0m\u001b[1;33m\u001b[0m\u001b[0m\n\u001b[0;32m      2\u001b[0m \u001b[0mempty_list\u001b[0m \u001b[1;33m=\u001b[0m \u001b[1;33m[\u001b[0m\u001b[1;33m]\u001b[0m\u001b[1;33m\u001b[0m\u001b[1;33m\u001b[0m\u001b[0m\n\u001b[1;32m----> 3\u001b[1;33m \u001b[0mprint\u001b[0m\u001b[1;33m(\u001b[0m\u001b[0mempty_list\u001b[0m\u001b[1;33m[\u001b[0m\u001b[1;36m0\u001b[0m\u001b[1;33m]\u001b[0m\u001b[1;33m)\u001b[0m  \u001b[1;31m# IndexError: list index out of range\u001b[0m\u001b[1;33m\u001b[0m\u001b[1;33m\u001b[0m\u001b[0m\n\u001b[0m",
      "\u001b[1;31mIndexError\u001b[0m: list index out of range"
     ]
    }
   ],
   "source": [
    "# 3-Empty Sequence Error:\n",
    "empty_list = []\n",
    "print(empty_list[0])  # IndexError: list index out of range\n"
   ]
  },
  {
   "cell_type": "markdown",
   "id": "282fd85a",
   "metadata": {},
   "source": [
    "<div style=\"color:black;\n",
    "           display:fill;\n",
    "           border-radius:120px;\n",
    "           background-color:#A52A2A;\n",
    "           font-size:100%;\n",
    "           font-family:Verdana;\n",
    "            font-size:20;\n",
    "           letter-spacing:0.5px\">\n",
    "\n",
    "<p style=\"padding: 20px;\n",
    "              color:white;\">2-7 KeyError:\n",
    "</p>\n",
    "</div>"
   ]
  },
  {
   "cell_type": "markdown",
   "id": "8bf1338d",
   "metadata": {},
   "source": [
    "<div style=\"color:black;\n",
    "           display:fill;\n",
    "           border-radius:120px;\n",
    "           background-color:#FFE4B5;\n",
    "           font-size:100%;\n",
    "           font-family:Verdana;\n",
    "            font-size:20;\n",
    "           letter-spacing:0.5px\">\n",
    "\n",
    "<p style=\"padding: 20px;\n",
    "              color:black;\">In Python, a \"KeyError\" is categorized as a runtime error or exception. It occurs when you try to access a dictionary with a key that does not exist in the dictionary. In other words, you are attempting to retrieve a value associated with a key that is not present in the dictionary. Here are some examples:\n",
    "</p>\n",
    "</div>"
   ]
  },
  {
   "cell_type": "markdown",
   "id": "2f6067de",
   "metadata": {},
   "source": [
    "<h5 style=\"color:#8B0000;position:center;\" >Example:</h5>"
   ]
  },
  {
   "cell_type": "code",
   "execution_count": 7,
   "id": "def9eb68",
   "metadata": {},
   "outputs": [
    {
     "ename": "KeyError",
     "evalue": "'address'",
     "output_type": "error",
     "traceback": [
      "\u001b[1;31m---------------------------------------------------------------------------\u001b[0m",
      "\u001b[1;31mKeyError\u001b[0m                                  Traceback (most recent call last)",
      "\u001b[1;32m~\\AppData\\Local\\Temp/ipykernel_11508/2018652830.py\u001b[0m in \u001b[0;36m<module>\u001b[1;34m\u001b[0m\n\u001b[0;32m      1\u001b[0m \u001b[1;31m# 1-Dictionary Key Not Found:\u001b[0m\u001b[1;33m\u001b[0m\u001b[1;33m\u001b[0m\u001b[1;33m\u001b[0m\u001b[0m\n\u001b[0;32m      2\u001b[0m \u001b[0mmy_dict\u001b[0m \u001b[1;33m=\u001b[0m \u001b[1;33m{\u001b[0m\u001b[1;34m'name'\u001b[0m\u001b[1;33m:\u001b[0m \u001b[1;34m'John'\u001b[0m\u001b[1;33m,\u001b[0m \u001b[1;34m'age'\u001b[0m\u001b[1;33m:\u001b[0m \u001b[1;36m30\u001b[0m\u001b[1;33m}\u001b[0m\u001b[1;33m\u001b[0m\u001b[1;33m\u001b[0m\u001b[0m\n\u001b[1;32m----> 3\u001b[1;33m \u001b[0mprint\u001b[0m\u001b[1;33m(\u001b[0m\u001b[0mmy_dict\u001b[0m\u001b[1;33m[\u001b[0m\u001b[1;34m'address'\u001b[0m\u001b[1;33m]\u001b[0m\u001b[1;33m)\u001b[0m  \u001b[1;31m# KeyError: 'address'\u001b[0m\u001b[1;33m\u001b[0m\u001b[1;33m\u001b[0m\u001b[0m\n\u001b[0m",
      "\u001b[1;31mKeyError\u001b[0m: 'address'"
     ]
    }
   ],
   "source": [
    "# 1-Dictionary Key Not Found:\n",
    "my_dict = {'name': 'John', 'age': 30}\n",
    "print(my_dict['address'])  # KeyError: 'address'\n"
   ]
  },
  {
   "cell_type": "code",
   "execution_count": 8,
   "id": "7ac73fa6",
   "metadata": {},
   "outputs": [
    {
     "ename": "KeyError",
     "evalue": "'key'",
     "output_type": "error",
     "traceback": [
      "\u001b[1;31m---------------------------------------------------------------------------\u001b[0m",
      "\u001b[1;31mKeyError\u001b[0m                                  Traceback (most recent call last)",
      "\u001b[1;32m~\\AppData\\Local\\Temp/ipykernel_11508/2927209945.py\u001b[0m in \u001b[0;36m<module>\u001b[1;34m\u001b[0m\n\u001b[0;32m      1\u001b[0m \u001b[1;31m# 2-Accessing a Key in an Empty Dictionary:\u001b[0m\u001b[1;33m\u001b[0m\u001b[1;33m\u001b[0m\u001b[1;33m\u001b[0m\u001b[0m\n\u001b[0;32m      2\u001b[0m \u001b[0mempty_dict\u001b[0m \u001b[1;33m=\u001b[0m \u001b[1;33m{\u001b[0m\u001b[1;33m}\u001b[0m\u001b[1;33m\u001b[0m\u001b[1;33m\u001b[0m\u001b[0m\n\u001b[1;32m----> 3\u001b[1;33m \u001b[0mprint\u001b[0m\u001b[1;33m(\u001b[0m\u001b[0mempty_dict\u001b[0m\u001b[1;33m[\u001b[0m\u001b[1;34m'key'\u001b[0m\u001b[1;33m]\u001b[0m\u001b[1;33m)\u001b[0m  \u001b[1;31m# KeyError: 'key'\u001b[0m\u001b[1;33m\u001b[0m\u001b[1;33m\u001b[0m\u001b[0m\n\u001b[0m",
      "\u001b[1;31mKeyError\u001b[0m: 'key'"
     ]
    }
   ],
   "source": [
    "# 2-Accessing a Key in an Empty Dictionary:\n",
    "empty_dict = {}\n",
    "print(empty_dict['key'])  # KeyError: 'key'"
   ]
  },
  {
   "cell_type": "code",
   "execution_count": 9,
   "id": "fb084734",
   "metadata": {},
   "outputs": [
    {
     "ename": "KeyError",
     "evalue": "'address'",
     "output_type": "error",
     "traceback": [
      "\u001b[1;31m---------------------------------------------------------------------------\u001b[0m",
      "\u001b[1;31mKeyError\u001b[0m                                  Traceback (most recent call last)",
      "\u001b[1;32m~\\AppData\\Local\\Temp/ipykernel_11508/521379482.py\u001b[0m in \u001b[0;36m<module>\u001b[1;34m\u001b[0m\n\u001b[0;32m      2\u001b[0m \u001b[0mkey_name\u001b[0m \u001b[1;33m=\u001b[0m \u001b[1;34m'address'\u001b[0m\u001b[1;33m\u001b[0m\u001b[1;33m\u001b[0m\u001b[0m\n\u001b[0;32m      3\u001b[0m \u001b[0mmy_dict\u001b[0m \u001b[1;33m=\u001b[0m \u001b[1;33m{\u001b[0m\u001b[1;34m'name'\u001b[0m\u001b[1;33m:\u001b[0m \u001b[1;34m'John'\u001b[0m\u001b[1;33m,\u001b[0m \u001b[1;34m'age'\u001b[0m\u001b[1;33m:\u001b[0m \u001b[1;36m30\u001b[0m\u001b[1;33m}\u001b[0m\u001b[1;33m\u001b[0m\u001b[1;33m\u001b[0m\u001b[0m\n\u001b[1;32m----> 4\u001b[1;33m \u001b[0mprint\u001b[0m\u001b[1;33m(\u001b[0m\u001b[0mmy_dict\u001b[0m\u001b[1;33m[\u001b[0m\u001b[0mkey_name\u001b[0m\u001b[1;33m]\u001b[0m\u001b[1;33m)\u001b[0m  \u001b[1;31m# KeyError: 'address'\u001b[0m\u001b[1;33m\u001b[0m\u001b[1;33m\u001b[0m\u001b[0m\n\u001b[0m",
      "\u001b[1;31mKeyError\u001b[0m: 'address'"
     ]
    }
   ],
   "source": [
    "# 3-Using Variables as Keys:\n",
    "key_name = 'address'\n",
    "my_dict = {'name': 'John', 'age': 30}\n",
    "print(my_dict[key_name])  # KeyError: 'address'\n"
   ]
  },
  {
   "cell_type": "markdown",
   "id": "073c7b87",
   "metadata": {},
   "source": [
    "<div style=\"color:black;\n",
    "           display:fill;\n",
    "           border-radius:120px;\n",
    "           background-color:#A52A2A;\n",
    "           font-size:100%;\n",
    "           font-family:Verdana;\n",
    "            font-size:20;\n",
    "           letter-spacing:0.5px\">\n",
    "\n",
    "<p style=\"padding: 20px;\n",
    "              color:white;\">2-8 MemoryError:\n",
    "</p>\n",
    "</div>"
   ]
  },
  {
   "cell_type": "markdown",
   "id": "cec18574",
   "metadata": {},
   "source": [
    "<div style=\"color:black;\n",
    "           display:fill;\n",
    "           border-radius:120px;\n",
    "           background-color:#FFE4B5;\n",
    "           font-size:100%;\n",
    "           font-family:Verdana;\n",
    "            font-size:20;\n",
    "           letter-spacing:0.5px\">\n",
    "\n",
    "<p style=\"padding: 20px;\n",
    "              color:black;\">\n",
    "In Python, a \"MemoryError\" is categorized as a runtime error or exception. It occurs when your program tries to allocate more memory than the system can provide. In other words, it happens when your Python program runs out of available memory resources. MemoryErrors can manifest in various ways, and Python raises this exception to indicate that it cannot allocate the requested amount of memory. Here's an example:\n",
    "</p>\n",
    "</div>"
   ]
  },
  {
   "cell_type": "markdown",
   "id": "a0e92dd0",
   "metadata": {},
   "source": [
    "<h5 style=\"color:#8B0000;position:center;\" >Example:</h5>"
   ]
  },
  {
   "cell_type": "code",
   "execution_count": 10,
   "id": "c9560221",
   "metadata": {},
   "outputs": [],
   "source": [
    "# This example attempts to create a very large list, causing a MemoryError.\n",
    "#large_list = [0] * 10**9  # Attempting to allocate a billion elements\n",
    "\n",
    "# When this code runs, it will raise a MemoryError because it exceeds available memory.\n"
   ]
  },
  {
   "cell_type": "markdown",
   "id": "1ca3e9c7",
   "metadata": {},
   "source": [
    "<div style=\"color:black;\n",
    "           display:fill;\n",
    "           border-radius:120px;\n",
    "           background-color:#A52A2A;\n",
    "           font-size:100%;\n",
    "           font-family:Verdana;\n",
    "            font-size:20;\n",
    "           letter-spacing:0.5px\">\n",
    "\n",
    "<p style=\"padding: 20px;\n",
    "              color:white;\">2-9 OSError:\n",
    "</p>\n",
    "</div>"
   ]
  },
  {
   "cell_type": "markdown",
   "id": "6ff03fe4",
   "metadata": {},
   "source": [
    "<div style=\"color:black;\n",
    "           display:fill;\n",
    "           border-radius:120px;\n",
    "           background-color:#FFE4B5;\n",
    "           font-size:100%;\n",
    "           font-family:Verdana;\n",
    "            font-size:20;\n",
    "           letter-spacing:0.5px\">\n",
    "\n",
    "<p style=\"padding: 20px;\n",
    "              color:black;\">In Python, \"OSError\" is categorized as a runtime error or exception. It is a broad exception that encompasses various errors related to the operating system or file system operations. OSError is raised when an operation on the operating system or file system cannot be completed successfully. Here are some examples of OSError\n",
    "</p>\n",
    "</div>"
   ]
  },
  {
   "cell_type": "markdown",
   "id": "82a332bd",
   "metadata": {},
   "source": [
    "<h5 style=\"color:#8B0000;position:center;\" >Example:</h5>"
   ]
  },
  {
   "cell_type": "code",
   "execution_count": 11,
   "id": "fbcc9207",
   "metadata": {},
   "outputs": [
    {
     "ename": "FileNotFoundError",
     "evalue": "[Errno 2] No such file or directory: 'non_existent_file.txt'",
     "output_type": "error",
     "traceback": [
      "\u001b[1;31m---------------------------------------------------------------------------\u001b[0m",
      "\u001b[1;31mFileNotFoundError\u001b[0m                         Traceback (most recent call last)",
      "\u001b[1;32m~\\AppData\\Local\\Temp/ipykernel_11508/1988903733.py\u001b[0m in \u001b[0;36m<module>\u001b[1;34m\u001b[0m\n\u001b[0;32m      1\u001b[0m \u001b[1;31m# 1-File Not Found Error:\u001b[0m\u001b[1;33m\u001b[0m\u001b[1;33m\u001b[0m\u001b[1;33m\u001b[0m\u001b[0m\n\u001b[1;32m----> 2\u001b[1;33m \u001b[1;32mwith\u001b[0m \u001b[0mopen\u001b[0m\u001b[1;33m(\u001b[0m\u001b[1;34m'non_existent_file.txt'\u001b[0m\u001b[1;33m,\u001b[0m \u001b[1;34m'r'\u001b[0m\u001b[1;33m)\u001b[0m \u001b[1;32mas\u001b[0m \u001b[0mfile\u001b[0m\u001b[1;33m:\u001b[0m\u001b[1;33m\u001b[0m\u001b[1;33m\u001b[0m\u001b[0m\n\u001b[0m\u001b[0;32m      3\u001b[0m     \u001b[0mdata\u001b[0m \u001b[1;33m=\u001b[0m \u001b[0mfile\u001b[0m\u001b[1;33m.\u001b[0m\u001b[0mread\u001b[0m\u001b[1;33m(\u001b[0m\u001b[1;33m)\u001b[0m\u001b[1;33m\u001b[0m\u001b[1;33m\u001b[0m\u001b[0m\n\u001b[0;32m      4\u001b[0m \u001b[1;31m# OSError: [Errno 2] No such file or directory: 'non_existent_file.txt'\u001b[0m\u001b[1;33m\u001b[0m\u001b[1;33m\u001b[0m\u001b[1;33m\u001b[0m\u001b[0m\n",
      "\u001b[1;31mFileNotFoundError\u001b[0m: [Errno 2] No such file or directory: 'non_existent_file.txt'"
     ]
    }
   ],
   "source": [
    "# 1-File Not Found Error:\n",
    "with open('non_existent_file.txt', 'r') as file:\n",
    "    data = file.read()\n",
    "# OSError: [Errno 2] No such file or directory: 'non_existent_file.txt'\n"
   ]
  },
  {
   "cell_type": "code",
   "execution_count": 12,
   "id": "e3aed38f",
   "metadata": {},
   "outputs": [
    {
     "ename": "FileNotFoundError",
     "evalue": "[WinError 2] The system cannot find the file specified: 'non_empty_directory'",
     "output_type": "error",
     "traceback": [
      "\u001b[1;31m---------------------------------------------------------------------------\u001b[0m",
      "\u001b[1;31mFileNotFoundError\u001b[0m                         Traceback (most recent call last)",
      "\u001b[1;32m~\\AppData\\Local\\Temp/ipykernel_11508/1485350830.py\u001b[0m in \u001b[0;36m<module>\u001b[1;34m\u001b[0m\n\u001b[0;32m      1\u001b[0m \u001b[1;31m# 2-Directory Not Empty Error:\u001b[0m\u001b[1;33m\u001b[0m\u001b[1;33m\u001b[0m\u001b[1;33m\u001b[0m\u001b[0m\n\u001b[0;32m      2\u001b[0m \u001b[1;32mimport\u001b[0m \u001b[0mos\u001b[0m\u001b[1;33m\u001b[0m\u001b[1;33m\u001b[0m\u001b[0m\n\u001b[1;32m----> 3\u001b[1;33m \u001b[0mos\u001b[0m\u001b[1;33m.\u001b[0m\u001b[0mrmdir\u001b[0m\u001b[1;33m(\u001b[0m\u001b[1;34m'non_empty_directory'\u001b[0m\u001b[1;33m)\u001b[0m\u001b[1;33m\u001b[0m\u001b[1;33m\u001b[0m\u001b[0m\n\u001b[0m\u001b[0;32m      4\u001b[0m \u001b[1;31m# OSError: [Errno 39] Directory not empty: 'non_empty_directory'\u001b[0m\u001b[1;33m\u001b[0m\u001b[1;33m\u001b[0m\u001b[1;33m\u001b[0m\u001b[0m\n",
      "\u001b[1;31mFileNotFoundError\u001b[0m: [WinError 2] The system cannot find the file specified: 'non_empty_directory'"
     ]
    }
   ],
   "source": [
    "# 2-Directory Not Empty Error:\n",
    "import os\n",
    "os.rmdir('non_empty_directory')\n",
    "# OSError: [Errno 39] Directory not empty: 'non_empty_directory'\n"
   ]
  },
  {
   "cell_type": "markdown",
   "id": "8dc56081",
   "metadata": {},
   "source": [
    "<div style=\"color:black;\n",
    "           display:fill;\n",
    "           border-radius:120px;\n",
    "           background-color:#A52A2A;\n",
    "           font-size:100%;\n",
    "           font-family:Verdana;\n",
    "            font-size:20;\n",
    "           letter-spacing:0.5px\">\n",
    "\n",
    "<p style=\"padding: 20px;\n",
    "              color:white;\">2-10 NameError:\n",
    "</p>\n",
    "</div>"
   ]
  },
  {
   "cell_type": "markdown",
   "id": "18684f2d",
   "metadata": {},
   "source": [
    "<div style=\"color:black;\n",
    "           display:fill;\n",
    "           border-radius:120px;\n",
    "           background-color:#FFE4B5;\n",
    "           font-size:100%;\n",
    "           font-family:Verdana;\n",
    "            font-size:20;\n",
    "           letter-spacing:0.5px\">\n",
    "\n",
    "<p style=\"padding: 20px;\n",
    "              color:black;\">In Python, a \"NameError\" is categorized as a runtime error or exception. It occurs when you try to access a name (e.g., a variable or function) that does not exist or is not defined in the current scope. NameError indicates that Python cannot find a reference to the name you are trying to use. Here are some examples:\n",
    "</p>\n",
    "</div>"
   ]
  },
  {
   "cell_type": "markdown",
   "id": "ead7f611",
   "metadata": {},
   "source": [
    "<h5 style=\"color:#8B0000;position:center;\" >Example:</h5>"
   ]
  },
  {
   "cell_type": "code",
   "execution_count": 13,
   "id": "3a08eceb",
   "metadata": {},
   "outputs": [
    {
     "ename": "NameError",
     "evalue": "name 'variable_name' is not defined",
     "output_type": "error",
     "traceback": [
      "\u001b[1;31m---------------------------------------------------------------------------\u001b[0m",
      "\u001b[1;31mNameError\u001b[0m                                 Traceback (most recent call last)",
      "\u001b[1;32m~\\AppData\\Local\\Temp/ipykernel_11508/1167214195.py\u001b[0m in \u001b[0;36m<module>\u001b[1;34m\u001b[0m\n\u001b[0;32m      1\u001b[0m \u001b[1;31m# 1-Variable Not Defined:\u001b[0m\u001b[1;33m\u001b[0m\u001b[1;33m\u001b[0m\u001b[1;33m\u001b[0m\u001b[0m\n\u001b[1;32m----> 2\u001b[1;33m \u001b[0mprint\u001b[0m\u001b[1;33m(\u001b[0m\u001b[0mvariable_name\u001b[0m\u001b[1;33m)\u001b[0m  \u001b[1;31m# NameError: name 'variable_name' is not defined\u001b[0m\u001b[1;33m\u001b[0m\u001b[1;33m\u001b[0m\u001b[0m\n\u001b[0m",
      "\u001b[1;31mNameError\u001b[0m: name 'variable_name' is not defined"
     ]
    }
   ],
   "source": [
    "# 1-Variable Not Defined:\n",
    "print(variable_name)  # NameError: name 'variable_name' is not defined\n"
   ]
  },
  {
   "cell_type": "code",
   "execution_count": 14,
   "id": "5a9709e5",
   "metadata": {},
   "outputs": [
    {
     "ename": "NameError",
     "evalue": "name 'my_function' is not defined",
     "output_type": "error",
     "traceback": [
      "\u001b[1;31m---------------------------------------------------------------------------\u001b[0m",
      "\u001b[1;31mNameError\u001b[0m                                 Traceback (most recent call last)",
      "\u001b[1;32m~\\AppData\\Local\\Temp/ipykernel_11508/3775424908.py\u001b[0m in \u001b[0;36m<module>\u001b[1;34m\u001b[0m\n\u001b[0;32m      1\u001b[0m \u001b[1;31m# 2-Function Not Defined:\u001b[0m\u001b[1;33m\u001b[0m\u001b[1;33m\u001b[0m\u001b[1;33m\u001b[0m\u001b[0m\n\u001b[1;32m----> 2\u001b[1;33m \u001b[0mresult\u001b[0m \u001b[1;33m=\u001b[0m \u001b[0mmy_function\u001b[0m\u001b[1;33m(\u001b[0m\u001b[1;33m)\u001b[0m  \u001b[1;31m# NameError: name 'my_function' is not defined\u001b[0m\u001b[1;33m\u001b[0m\u001b[1;33m\u001b[0m\u001b[0m\n\u001b[0m",
      "\u001b[1;31mNameError\u001b[0m: name 'my_function' is not defined"
     ]
    }
   ],
   "source": [
    "# 2-Function Not Defined:\n",
    "result = my_function()  # NameError: name 'my_function' is not defined\n"
   ]
  },
  {
   "cell_type": "code",
   "execution_count": 15,
   "id": "31067eeb",
   "metadata": {},
   "outputs": [
    {
     "ename": "NameError",
     "evalue": "name 'y' is not defined",
     "output_type": "error",
     "traceback": [
      "\u001b[1;31m---------------------------------------------------------------------------\u001b[0m",
      "\u001b[1;31mNameError\u001b[0m                                 Traceback (most recent call last)",
      "\u001b[1;32m~\\AppData\\Local\\Temp/ipykernel_11508/638715196.py\u001b[0m in \u001b[0;36m<module>\u001b[1;34m\u001b[0m\n\u001b[0;32m      1\u001b[0m \u001b[1;31m# 3-Name Conflict:\u001b[0m\u001b[1;33m\u001b[0m\u001b[1;33m\u001b[0m\u001b[1;33m\u001b[0m\u001b[0m\n\u001b[0;32m      2\u001b[0m \u001b[0mx\u001b[0m \u001b[1;33m=\u001b[0m \u001b[1;36m5\u001b[0m\u001b[1;33m\u001b[0m\u001b[1;33m\u001b[0m\u001b[0m\n\u001b[1;32m----> 3\u001b[1;33m \u001b[0mx\u001b[0m \u001b[1;33m=\u001b[0m \u001b[0mx\u001b[0m \u001b[1;33m+\u001b[0m \u001b[0my\u001b[0m  \u001b[1;31m# NameError: name 'y' is not defined\u001b[0m\u001b[1;33m\u001b[0m\u001b[1;33m\u001b[0m\u001b[0m\n\u001b[0m",
      "\u001b[1;31mNameError\u001b[0m: name 'y' is not defined"
     ]
    }
   ],
   "source": [
    "# 3-Name Conflict:\n",
    "x = 5\n",
    "x = x + y  # NameError: name 'y' is not defined\n"
   ]
  },
  {
   "cell_type": "code",
   "execution_count": null,
   "id": "6996300c",
   "metadata": {},
   "outputs": [],
   "source": []
  }
 ],
 "metadata": {
  "kernelspec": {
   "display_name": "Python 3 (ipykernel)",
   "language": "python",
   "name": "python3"
  },
  "language_info": {
   "codemirror_mode": {
    "name": "ipython",
    "version": 3
   },
   "file_extension": ".py",
   "mimetype": "text/x-python",
   "name": "python",
   "nbconvert_exporter": "python",
   "pygments_lexer": "ipython3",
   "version": "3.9.4"
  }
 },
 "nbformat": 4,
 "nbformat_minor": 5
}
